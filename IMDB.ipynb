{
  "nbformat": 4,
  "nbformat_minor": 0,
  "metadata": {
    "colab": {
      "name": "IMDB.ipynb",
      "provenance": [],
      "collapsed_sections": [],
      "authorship_tag": "ABX9TyMxd+zhe0CxGyn5q1W/XRGe",
      "include_colab_link": true
    },
    "kernelspec": {
      "name": "python3",
      "display_name": "Python 3"
    }
  },
  "cells": [
    {
      "cell_type": "markdown",
      "metadata": {
        "id": "view-in-github",
        "colab_type": "text"
      },
      "source": [
        "<a href=\"https://colab.research.google.com/github/forMwish/MyDeepLearn/blob/master/IMDB.ipynb\" target=\"_parent\"><img src=\"https://colab.research.google.com/assets/colab-badge.svg\" alt=\"Open In Colab\"/></a>"
      ]
    },
    {
      "cell_type": "markdown",
      "metadata": {
        "id": "DR16t6vSjq1D"
      },
      "source": [
        "# 1. 数据预处理"
      ]
    },
    {
      "cell_type": "code",
      "metadata": {
        "colab": {
          "base_uri": "https://localhost:8080/"
        },
        "id": "YW_2XeNN4X4K",
        "outputId": "66932486-b6f0-4522-c866-148ebc68c582"
      },
      "source": [
        "from keras.datasets import imdb\n",
        "\n",
        "(train_data, train_labels), (test_data, test_labels) = imdb.load_data(num_words=10000)"
      ],
      "execution_count": 1,
      "outputs": [
        {
          "output_type": "stream",
          "text": [
            "Downloading data from https://storage.googleapis.com/tensorflow/tf-keras-datasets/imdb.npz\n",
            "17465344/17464789 [==============================] - 0s 0us/step\n"
          ],
          "name": "stdout"
        },
        {
          "output_type": "stream",
          "text": [
            "<string>:6: VisibleDeprecationWarning: Creating an ndarray from ragged nested sequences (which is a list-or-tuple of lists-or-tuples-or ndarrays with different lengths or shapes) is deprecated. If you meant to do this, you must specify 'dtype=object' when creating the ndarray\n",
            "/usr/local/lib/python3.7/dist-packages/tensorflow/python/keras/datasets/imdb.py:159: VisibleDeprecationWarning: Creating an ndarray from ragged nested sequences (which is a list-or-tuple of lists-or-tuples-or ndarrays with different lengths or shapes) is deprecated. If you meant to do this, you must specify 'dtype=object' when creating the ndarray\n",
            "  x_train, y_train = np.array(xs[:idx]), np.array(labels[:idx])\n",
            "/usr/local/lib/python3.7/dist-packages/tensorflow/python/keras/datasets/imdb.py:160: VisibleDeprecationWarning: Creating an ndarray from ragged nested sequences (which is a list-or-tuple of lists-or-tuples-or ndarrays with different lengths or shapes) is deprecated. If you meant to do this, you must specify 'dtype=object' when creating the ndarray\n",
            "  x_test, y_test = np.array(xs[idx:]), np.array(labels[idx:])\n"
          ],
          "name": "stderr"
        }
      ]
    },
    {
      "cell_type": "code",
      "metadata": {
        "id": "wJRBVyDADsYd"
      },
      "source": [
        "import numpy as np\n",
        "\n",
        "def one_hot(sequences, dimension=10000):\n",
        "  result = np.zeros((len(sequences), dimension))\n",
        "  for i, data in enumerate(sequences):\n",
        "    result[i, data] = 1.\n",
        "  return result\n",
        "\n",
        "train_x = one_hot(train_data, 10000)\n",
        "test_x = one_hot(test_data, 10000)\n",
        "train_y = np.asarray(train_labels).astype('float32')\n",
        "test_y = np.asarray(test_labels).astype('float32')"
      ],
      "execution_count": 2,
      "outputs": []
    },
    {
      "cell_type": "markdown",
      "metadata": {
        "id": "n8GvOdnXjvmB"
      },
      "source": [
        "# 2. 模型构建"
      ]
    },
    {
      "cell_type": "code",
      "metadata": {
        "id": "eRZhoKI1Glql",
        "colab": {
          "base_uri": "https://localhost:8080/"
        },
        "outputId": "64f5f2a8-8594-4270-9c31-076acbdd2325"
      },
      "source": [
        "from keras import layers\n",
        "from keras import models\n",
        "\n",
        "model = models.Sequential()\n",
        "model.add(layers.Dense(16, activation='relu', input_shape=(10000,)))\n",
        "model.add(layers.Dense(16, activation='relu'))\n",
        "model.add(layers.Dense(1, activation='sigmoid'))\n",
        "\n",
        "model.summary()"
      ],
      "execution_count": 3,
      "outputs": [
        {
          "output_type": "stream",
          "text": [
            "Model: \"sequential\"\n",
            "_________________________________________________________________\n",
            "Layer (type)                 Output Shape              Param #   \n",
            "=================================================================\n",
            "dense (Dense)                (None, 16)                160016    \n",
            "_________________________________________________________________\n",
            "dense_1 (Dense)              (None, 16)                272       \n",
            "_________________________________________________________________\n",
            "dense_2 (Dense)              (None, 1)                 17        \n",
            "=================================================================\n",
            "Total params: 160,305\n",
            "Trainable params: 160,305\n",
            "Non-trainable params: 0\n",
            "_________________________________________________________________\n"
          ],
          "name": "stdout"
        }
      ]
    },
    {
      "cell_type": "code",
      "metadata": {
        "id": "utxCg0R8kiRY"
      },
      "source": [
        "from keras import losses\n",
        "from keras import metrics\n",
        "from keras import optimizers\n",
        "\n",
        "model.compile(optimizer=optimizers.RMSprop(lr=0.001),\n",
        "       loss=losses.binary_crossentropy,\n",
        "       metrics=metrics.binary_accuracy)"
      ],
      "execution_count": 4,
      "outputs": []
    },
    {
      "cell_type": "markdown",
      "metadata": {
        "id": "ORJwB2I8j1uH"
      },
      "source": [
        "# 3. 训练"
      ]
    },
    {
      "cell_type": "code",
      "metadata": {
        "colab": {
          "base_uri": "https://localhost:8080/"
        },
        "id": "t7Y-0rmslUpU",
        "outputId": "3b535a81-8abe-4a1e-f4d0-449914361ea4"
      },
      "source": [
        "x_val = train_x[0:10000]\n",
        "partial_train_x = train_x[10000:]\n",
        "\n",
        "y_val = train_y[0:10000]\n",
        "partial_train_y = train_y[10000:]\n",
        "\n",
        "history = model.fit(partial_train_x,\n",
        "            partial_train_y,\n",
        "            epochs=20,\n",
        "            batch_size=512,\n",
        "            validation_data=(x_val, y_val))"
      ],
      "execution_count": 5,
      "outputs": [
        {
          "output_type": "stream",
          "text": [
            "Epoch 1/20\n",
            "30/30 [==============================] - 3s 65ms/step - loss: 0.6020 - binary_accuracy: 0.6955 - val_loss: 0.4074 - val_binary_accuracy: 0.8634\n",
            "Epoch 2/20\n",
            "30/30 [==============================] - 1s 38ms/step - loss: 0.3464 - binary_accuracy: 0.8937 - val_loss: 0.3187 - val_binary_accuracy: 0.8795\n",
            "Epoch 3/20\n",
            "30/30 [==============================] - 1s 38ms/step - loss: 0.2457 - binary_accuracy: 0.9215 - val_loss: 0.2840 - val_binary_accuracy: 0.8898\n",
            "Epoch 4/20\n",
            "30/30 [==============================] - 1s 38ms/step - loss: 0.1867 - binary_accuracy: 0.9406 - val_loss: 0.2739 - val_binary_accuracy: 0.8906\n",
            "Epoch 5/20\n",
            "30/30 [==============================] - 1s 39ms/step - loss: 0.1441 - binary_accuracy: 0.9568 - val_loss: 0.2781 - val_binary_accuracy: 0.8897\n",
            "Epoch 6/20\n",
            "30/30 [==============================] - 1s 38ms/step - loss: 0.1223 - binary_accuracy: 0.9617 - val_loss: 0.2884 - val_binary_accuracy: 0.8858\n",
            "Epoch 7/20\n",
            "30/30 [==============================] - 1s 38ms/step - loss: 0.1015 - binary_accuracy: 0.9699 - val_loss: 0.3185 - val_binary_accuracy: 0.8833\n",
            "Epoch 8/20\n",
            "30/30 [==============================] - 1s 39ms/step - loss: 0.0798 - binary_accuracy: 0.9785 - val_loss: 0.3289 - val_binary_accuracy: 0.8828\n",
            "Epoch 9/20\n",
            "30/30 [==============================] - 1s 39ms/step - loss: 0.0661 - binary_accuracy: 0.9838 - val_loss: 0.3511 - val_binary_accuracy: 0.8808\n",
            "Epoch 10/20\n",
            "30/30 [==============================] - 1s 38ms/step - loss: 0.0543 - binary_accuracy: 0.9868 - val_loss: 0.3799 - val_binary_accuracy: 0.8799\n",
            "Epoch 11/20\n",
            "30/30 [==============================] - 1s 38ms/step - loss: 0.0417 - binary_accuracy: 0.9914 - val_loss: 0.3959 - val_binary_accuracy: 0.8786\n",
            "Epoch 12/20\n",
            "30/30 [==============================] - 1s 38ms/step - loss: 0.0345 - binary_accuracy: 0.9937 - val_loss: 0.4267 - val_binary_accuracy: 0.8730\n",
            "Epoch 13/20\n",
            "30/30 [==============================] - 1s 38ms/step - loss: 0.0274 - binary_accuracy: 0.9961 - val_loss: 0.4546 - val_binary_accuracy: 0.8718\n",
            "Epoch 14/20\n",
            "30/30 [==============================] - 1s 38ms/step - loss: 0.0237 - binary_accuracy: 0.9967 - val_loss: 0.5035 - val_binary_accuracy: 0.8742\n",
            "Epoch 15/20\n",
            "30/30 [==============================] - 1s 39ms/step - loss: 0.0166 - binary_accuracy: 0.9977 - val_loss: 0.5198 - val_binary_accuracy: 0.8737\n",
            "Epoch 16/20\n",
            "30/30 [==============================] - 1s 39ms/step - loss: 0.0123 - binary_accuracy: 0.9988 - val_loss: 0.6053 - val_binary_accuracy: 0.8681\n",
            "Epoch 17/20\n",
            "30/30 [==============================] - 1s 38ms/step - loss: 0.0099 - binary_accuracy: 0.9990 - val_loss: 0.5821 - val_binary_accuracy: 0.8687\n",
            "Epoch 18/20\n",
            "30/30 [==============================] - 1s 39ms/step - loss: 0.0080 - binary_accuracy: 0.9991 - val_loss: 0.6230 - val_binary_accuracy: 0.8700\n",
            "Epoch 19/20\n",
            "30/30 [==============================] - 1s 38ms/step - loss: 0.0049 - binary_accuracy: 0.9993 - val_loss: 0.6559 - val_binary_accuracy: 0.8668\n",
            "Epoch 20/20\n",
            "30/30 [==============================] - 1s 37ms/step - loss: 0.0053 - binary_accuracy: 0.9991 - val_loss: 0.6935 - val_binary_accuracy: 0.8678\n"
          ],
          "name": "stdout"
        }
      ]
    },
    {
      "cell_type": "markdown",
      "metadata": {
        "id": "vmKiK8iRj6Hu"
      },
      "source": [
        "# 4. 验证"
      ]
    },
    {
      "cell_type": "code",
      "metadata": {
        "colab": {
          "base_uri": "https://localhost:8080/"
        },
        "id": "Osxh4TVCAH9U",
        "outputId": "80949e93-66a0-4f8b-fc2b-bc226253387f"
      },
      "source": [
        "from google.colab import drive\n",
        "drive.mount('/gdrive')\n",
        "%cd /gdrive\n"
      ],
      "execution_count": 6,
      "outputs": [
        {
          "output_type": "stream",
          "text": [
            "Mounted at /gdrive\n",
            "/gdrive\n"
          ],
          "name": "stdout"
        }
      ]
    },
    {
      "cell_type": "code",
      "metadata": {
        "id": "4RLpi5PyCaPY"
      },
      "source": [
        "np.save(\"/gdrive/MyDrive/train_history/history_imdb\", history.history)"
      ],
      "execution_count": 7,
      "outputs": []
    },
    {
      "cell_type": "code",
      "metadata": {
        "colab": {
          "base_uri": "https://localhost:8080/",
          "height": 313
        },
        "id": "blqv3L30oa7q",
        "outputId": "890706e1-515d-4ba6-e950-b730d03b665b"
      },
      "source": [
        "print(history.history.keys())\n",
        "\n",
        "import matplotlib.pyplot as plt\n",
        "\n",
        "history_dict = history.history\n",
        "train_loss = history_dict['loss']\n",
        "train_acc = history_dict['binary_accuracy']\n",
        "val_loss = history_dict['val_loss']\n",
        "val_acc = history_dict['val_binary_accuracy']\n",
        "\n",
        "epoch = range(1, len(train_loss) + 1)\n",
        "plt.plot(epoch, train_loss, 'bo', label=\"train_loss\")\n",
        "plt.plot(epoch, val_loss, 'b', label=\"val_loss\")\n",
        "plt.title('loss')\n",
        "plt.xlabel('epoch')\n",
        "plt.ylabel('loss')\n",
        "plt.legend()\n",
        "\n",
        "plt.show()"
      ],
      "execution_count": 6,
      "outputs": [
        {
          "output_type": "stream",
          "text": [
            "dict_keys(['loss', 'binary_accuracy', 'val_loss', 'val_binary_accuracy'])\n"
          ],
          "name": "stdout"
        },
        {
          "output_type": "display_data",
          "data": {
            "image/png": "[encoded data removed]",
            "text/plain": [
              "<Figure size 432x288 with 1 Axes>"
            ]
          },
          "metadata": {
            "tags": [],
            "needs_background": "light"
          }
        }
      ]
    },
    {
      "cell_type": "code",
      "metadata": {
        "colab": {
          "base_uri": "https://localhost:8080/",
          "height": 295
        },
        "id": "Lt2m30C7v4Yf",
        "outputId": "e4ad2ba1-9f5b-4883-abfd-c5ba8e17719b"
      },
      "source": [
        "epoch = range(1, len(train_loss) + 1)\n",
        "plt.plot(epoch, train_acc, 'bo', label=\"train_acc\")\n",
        "plt.plot(epoch, val_acc, 'b', label=\"val_acc\")\n",
        "plt.title('acc')\n",
        "plt.xlabel('epoch')\n",
        "plt.ylabel('acc')\n",
        "plt.legend()\n",
        "\n",
        "plt.show()"
      ],
      "execution_count": 7,
      "outputs": [
        {
          "output_type": "display_data",
          "data": {
            "image/png": "[encoded data removed]",
            "text/plain": [
              "<Figure size 432x288 with 1 Axes>"
            ]
          },
          "metadata": {
            "tags": [],
            "needs_background": "light"
          }
        }
      ]
    },
    {
      "cell_type": "markdown",
      "metadata": {
        "id": "g5Lp_S7xkn0m"
      },
      "source": [
        "# 5. 测试"
      ]
    },
    {
      "cell_type": "code",
      "metadata": {
        "colab": {
          "base_uri": "https://localhost:8080/"
        },
        "id": "zl11GV6kkrV4",
        "outputId": "7e76b00e-5916-4829-e9b6-21a4134e6547"
      },
      "source": [
        "model = models.Sequential()\n",
        "model.add(layers.Dense(16, activation='relu', input_shape=(10000,)))\n",
        "model.add(layers.Dense(16, activation='relu'))\n",
        "model.add(layers.Dense(1, activation='sigmoid'))\n",
        "\n",
        "model.compile(optimizer=optimizers.RMSprop(lr=0.001),\n",
        "       loss=losses.binary_crossentropy,\n",
        "       metrics=metrics.binary_accuracy)\n",
        "\n",
        "model.fit(train_x, train_y, epochs=4, batch_size=512)\n",
        "results = model.evaluate(test_x, test_y)\n",
        "print(results)"
      ],
      "execution_count": 10,
      "outputs": [
        {
          "output_type": "stream",
          "text": [
            "Epoch 1/4\n",
            "49/49 [==============================] - 2s 33ms/step - loss: 0.5331 - binary_accuracy: 0.7548\n",
            "Epoch 2/4\n",
            "49/49 [==============================] - 2s 32ms/step - loss: 0.2687 - binary_accuracy: 0.9112\n",
            "Epoch 3/4\n",
            "49/49 [==============================] - 2s 33ms/step - loss: 0.2015 - binary_accuracy: 0.9329\n",
            "Epoch 4/4\n",
            "49/49 [==============================] - 2s 32ms/step - loss: 0.1612 - binary_accuracy: 0.9431\n",
            "782/782 [==============================] - 2s 2ms/step - loss: 0.2918 - binary_accuracy: 0.8842\n",
            "[0.2918042838573456, 0.8841999769210815]\n"
          ],
          "name": "stdout"
        }
      ]
    },
    {
      "cell_type": "code",
      "metadata": {
        "colab": {
          "base_uri": "https://localhost:8080/"
        },
        "id": "I4po46XolPY7",
        "outputId": "9bc54079-911c-48a6-f411-af1805c795ca"
      },
      "source": [
        "model.predict(test_x)"
      ],
      "execution_count": 11,
      "outputs": [
        {
          "output_type": "execute_result",
          "data": {
            "text/plain": [
              "array([[0.17246598],\n",
              "       [0.99882317],\n",
              "       [0.8666438 ],\n",
              "       ...,\n",
              "       [0.098665  ],\n",
              "       [0.07640839],\n",
              "       [0.6199232 ]], dtype=float32)"
            ]
          },
          "metadata": {
            "tags": []
          },
          "execution_count": 11
        }
      ]
    },
    {
      "cell_type": "code",
      "metadata": {
        "id": "aYz3kHnGlTKl"
      },
      "source": [
        ""
      ],
      "execution_count": null,
      "outputs": []
    }
  ]
}