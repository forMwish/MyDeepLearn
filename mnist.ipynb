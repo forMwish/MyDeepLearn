{
  "nbformat": 4,
  "nbformat_minor": 0,
  "metadata": {
    "colab": {
      "name": "mnist.ipynb",
      "provenance": [],
      "collapsed_sections": [
        "nGA_OO0wPDBc"
      ],
      "toc_visible": true,
      "include_colab_link": true
    },
    "kernelspec": {
      "display_name": "Python 3.8 (XPython)",
      "language": "python",
      "name": "xpython"
    },
    "language_info": {
      "file_extension": ".py",
      "mimetype": "text/x-python",
      "name": "python",
      "version": "3.8.8"
    }
  },
  "cells": [
    {
      "cell_type": "markdown",
      "metadata": {
        "id": "view-in-github",
        "colab_type": "text"
      },
      "source": [
        "<a href=\"https://colab.research.google.com/github/forMwish/MyDeepLearn/blob/master/mnist.ipynb\" target=\"_parent\"><img src=\"https://colab.research.google.com/assets/colab-badge.svg\" alt=\"Open In Colab\"/></a>"
      ]
    },
    {
      "cell_type": "markdown",
      "metadata": {
        "id": "cQQl-06bNHyn"
      },
      "source": [
        "# 1. 准备"
      ]
    },
    {
      "cell_type": "markdown",
      "metadata": {
        "id": "nGA_OO0wPDBc"
      },
      "source": [
        "## 1.1 挂载 google drive\n"
      ]
    },
    {
      "cell_type": "code",
      "metadata": {
        "id": "WRPImfTbMcii"
      },
      "source": [
        "from google.colab import drive\n",
        "drive.mount('/gdrive')\n",
        "%cd /gdrive\n",
        "google_drive = 1"
      ],
      "execution_count": null,
      "outputs": []
    },
    {
      "cell_type": "markdown",
      "metadata": {
        "id": "9HPY9f0kHpV2"
      },
      "source": [
        "## 1.2 数据集处理"
      ]
    },
    {
      "cell_type": "code",
      "metadata": {
        "id": "zKB2VyTjEIlt"
      },
      "source": [
        "from keras.datasets import mnist\n",
        "import numpy as np\n",
        "\n",
        "#pdb.set_trace() #需要在函数中使用，否则异常\n",
        "(train_images, train_labels), (test_images, test_labels) = mnist.load_data()\n",
        "\n",
        "train_images = train_images.reshape(60000, -1).astype(np.float32) / 255\n",
        "test_images = test_images.reshape(10000, -1).astype(np.float32) / 255\n",
        "\n",
        "from keras.utils import to_categorical\n",
        "train_labels = to_categorical(train_labels)\n",
        "test_labels = to_categorical(test_labels)\n",
        "\n",
        "validation_image = train_images[:10000]\n",
        "validation_labels = train_labels[:10000]\n",
        "partial_train_images = train_images[10000:]\n",
        "partial_train_labels = train_labels[10000:]"
      ],
      "execution_count": null,
      "outputs": []
    },
    {
      "cell_type": "markdown",
      "metadata": {
        "id": "uMwzXDaqHxeW"
      },
      "source": [
        "# 2. 模型"
      ]
    },
    {
      "cell_type": "markdown",
      "metadata": {
        "id": "VTfes05BrsDx"
      },
      "source": [
        "## 2.1 构建"
      ]
    },
    {
      "cell_type": "code",
      "metadata": {
        "id": "lD3ShFylFPUt"
      },
      "source": [
        "from keras import models\n",
        "from keras import layers\n",
        "\n",
        "from keras import optimizers\n",
        "from keras import losses\n",
        "from keras import metrics\n",
        "\n",
        "\n",
        "network = models.Sequential()\n",
        "network.add(layers.Dense(512, activation='relu', input_shape=(28*28, )))\n",
        "network.add(layers.Dense(10, activation=\"softmax\"))\n",
        "network.compile(optimizer=optimizers.RMSprop(lr=0.001),\n",
        "        loss=losses.categorical_crossentropy,\n",
        "        metrics=metrics.categorical_accuracy)\n",
        "network.summary()"
      ],
      "execution_count": null,
      "outputs": []
    },
    {
      "cell_type": "markdown",
      "metadata": {
        "id": "wjZ1_Hj-H1wl"
      },
      "source": [
        "## 2.2 训练"
      ]
    },
    {
      "cell_type": "code",
      "metadata": {
        "id": "0RfFdr9zUat8"
      },
      "source": [
        "network.fit(partial_train_images, \n",
        "      partial_train_labels, \n",
        "      epochs=50, \n",
        "      batch_size=128, \n",
        "      validation_data=(validation_image, validation_labels))\n"
      ],
      "execution_count": null,
      "outputs": []
    },
    {
      "cell_type": "markdown",
      "metadata": {
        "id": "LeSWDidHrsDy"
      },
      "source": [
        "# 3 model 数据存储"
      ]
    },
    {
      "cell_type": "markdown",
      "metadata": {
        "id": "UGGk0PRIrsDy"
      },
      "source": [
        "## 3.1 history"
      ]
    },
    {
      "cell_type": "code",
      "metadata": {
        "id": "O8Cvi1T1PwD9"
      },
      "source": [
        "import pickle\n",
        "import os\n",
        "\n",
        "save_path = './history/mnist_base.pickle'\n",
        "save_dir = os.path.dirname(save_path)\n",
        "\n",
        "if not os.path.isdir(save_dir):\n",
        "  os.mkdir(save_dir)\n",
        "\n",
        "fp = open(save_path, 'wb')\n",
        "pickle.dump(network.history.history, fp)\n",
        "fp.close()"
      ],
      "execution_count": null,
      "outputs": []
    },
    {
      "cell_type": "markdown",
      "metadata": {
        "id": "CGYsbHNBrsDz"
      },
      "source": [
        "## 3.2 model"
      ]
    },
    {
      "cell_type": "code",
      "metadata": {
        "id": "xs73-LBzrsDz"
      },
      "source": [
        "save_path = './model/mnist_base'\n",
        "save_dir = os.path.dirname(save_path)\n",
        "\n",
        "if not os.path.isdir(save_dir):\n",
        "  os.mkdir(save_dir)\n",
        "network.save(save_path)"
      ],
      "execution_count": null,
      "outputs": []
    },
    {
      "cell_type": "markdown",
      "metadata": {
        "id": "5oSCdtvXr3Qq"
      },
      "source": [
        "# 4. model 数据恢复"
      ]
    },
    {
      "cell_type": "markdown",
      "metadata": {
        "id": "3TRE8olqsSrX"
      },
      "source": [
        "# 4.1 history"
      ]
    },
    {
      "cell_type": "code",
      "metadata": {
        "id": "ooBYRNVDsX_K"
      },
      "source": [
        "import pickle\n",
        "\n",
        "history_path = './history/mnist_base.pickle'\n",
        "fp = open(history_path, 'rb')\n",
        "\n",
        "history = pickle.load(fp)\n",
        "fp.close()"
      ],
      "execution_count": null,
      "outputs": []
    },
    {
      "cell_type": "markdown",
      "metadata": {
        "id": "Tub3CYNexa07"
      },
      "source": [
        "## 4.2 model"
      ]
    },
    {
      "cell_type": "code",
      "metadata": {
        "id": "w1Cot3QxxLuC"
      },
      "source": [
        "model_path = './model/mnist_base'\n",
        "network = models.load_model(model_path)"
      ],
      "execution_count": null,
      "outputs": []
    },
    {
      "cell_type": "markdown",
      "metadata": {
        "id": "celPRAmTrsDz"
      },
      "source": [
        "# 5. history 分析"
      ]
    },
    {
      "cell_type": "code",
      "metadata": {
        "id": "6wIMvRLBrsDz"
      },
      "source": [
        "import matplotlib.pyplot as plt\n",
        "\n",
        "loss = history['loss']\n",
        "accuracy = history['categorical_accuracy']\n",
        "val_loss = history['val_loss']\n",
        "val_accuracy = history['val_categorical_accuracy']\n",
        "\n",
        "epoch = range(1, len(loss)+1)\n",
        "\n",
        "plt.figure(figsize=(20,10))\n",
        "plt.subplot(1, 2, 1)\n",
        "plt.title('loss')\n",
        "plt.plot(epoch, loss, 'bo', label='loss')\n",
        "plt.plot(epoch, val_loss, 'r.', label='val_loss')\n",
        "plt.legend()\n",
        "\n",
        "plt.subplot(1, 2, 2)\n",
        "plt.title('accuracy')\n",
        "plt.plot(epoch, accuracy, 'bo', label='accuracy')\n",
        "plt.plot(epoch, val_accuracy, 'r.', label='val_accuracy')\n",
        "plt.show()"
      ],
      "execution_count": null,
      "outputs": []
    },
    {
      "cell_type": "markdown",
      "metadata": {
        "id": "lswE5lrnH5Oi"
      },
      "source": [
        "## 5.1 测试集验证"
      ]
    },
    {
      "cell_type": "code",
      "metadata": {
        "id": "z_74DNDDHD4v"
      },
      "source": [
        "test_loss, test_acc = network.evaluate(test_images, test_labels)\n",
        "print(test_acc)"
      ],
      "execution_count": null,
      "outputs": []
    },
    {
      "cell_type": "markdown",
      "metadata": {
        "id": "IRa-83j_IBEj"
      },
      "source": [
        "## 其他"
      ]
    },
    {
      "cell_type": "code",
      "metadata": {
        "id": "H281-oE3IDIg"
      },
      "source": [
        "import matplotlib.pyplot as plt\n",
        "digit = train_images[4].reshape(28,28)\n",
        "print(digit.shape)\n",
        "plt.imshow(digit, cmap=plt.cm.binary)\n",
        "plt.show()\n",
        "\n"
      ],
      "execution_count": null,
      "outputs": []
    },
    {
      "cell_type": "code",
      "metadata": {
        "id": "kF_b80N5G__i"
      },
      "source": [
        "for j in range(0, 6, 2):\n",
        "  print(j)"
      ],
      "execution_count": null,
      "outputs": []
    },
    {
      "cell_type": "code",
      "metadata": {
        "id": "xLICmwcWHCf-"
      },
      "source": [
        ""
      ],
      "execution_count": null,
      "outputs": []
    }
  ]
}