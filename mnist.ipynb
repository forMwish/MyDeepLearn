{
  "nbformat": 4,
  "nbformat_minor": 0,
  "metadata": {
    "colab": {
      "name": "mnist.ipynb",
      "provenance": [],
      "collapsed_sections": [
        "nGA_OO0wPDBc"
      ]
    },
    "kernelspec": {
      "display_name": "Python 3.8 (XPython)",
      "language": "python",
      "name": "xpython"
    },
    "language_info": {
      "file_extension": ".py",
      "mimetype": "text/x-python",
      "name": "python",
      "version": "3.8.8"
    }
  },
  "cells": [
    {
      "cell_type": "markdown",
      "metadata": {
        "id": "cQQl-06bNHyn"
      },
      "source": [
        "# 1. 准备"
      ]
    },
    {
      "cell_type": "markdown",
      "metadata": {
        "id": "nGA_OO0wPDBc"
      },
      "source": [
        "## 1.1 挂载 google drive\n"
      ]
    },
    {
      "cell_type": "code",
      "metadata": {
        "id": "WRPImfTbMcii"
      },
      "source": [
        "from google.colab import drive\n",
        "drive.mount('/gdrive')\n",
        "%cd /gdrive\n",
        "google_drive = 1"
      ],
      "execution_count": null,
      "outputs": []
    },
    {
      "cell_type": "markdown",
      "metadata": {
        "id": "9HPY9f0kHpV2"
      },
      "source": [
        "## 1.2 数据集处理"
      ]
    },
    {
      "cell_type": "code",
      "metadata": {
        "id": "zKB2VyTjEIlt"
      },
      "source": [
        "from keras.datasets import mnist\n",
        "import numpy as np\n",
        "\n",
        "#pdb.set_trace() #需要在函数中使用，否则异常\n",
        "(train_images, train_labels), (test_images, test_labels) = mnist.load_data()\n",
        "\n",
        "train_images = train_images.reshape(60000, -1).astype(np.float32) / 255\n",
        "test_images = test_images.reshape(10000, -1).astype(np.float32) / 255\n",
        "\n",
        "from keras.utils import to_categorical\n",
        "train_labels = to_categorical(train_labels)\n",
        "test_labels = to_categorical(test_labels)"
      ],
      "execution_count": 2,
      "outputs": []
    },
    {
      "cell_type": "markdown",
      "metadata": {
        "id": "uMwzXDaqHxeW"
      },
      "source": [
        "# 2. 模型"
      ]
    },
    {
      "cell_type": "markdown",
      "metadata": {
        "id": "VTfes05BrsDx"
      },
      "source": [
        "## 2.1 构建"
      ]
    },
    {
      "cell_type": "code",
      "metadata": {
        "colab": {
          "base_uri": "https://localhost:8080/"
        },
        "id": "lD3ShFylFPUt",
        "outputId": "a85223ad-0675-4d01-9c57-f63eac7ff852"
      },
      "source": [
        "from keras import models\n",
        "from keras import layers\n",
        "\n",
        "from keras import optimizers\n",
        "from keras import losses\n",
        "from keras import metrics\n",
        "\n",
        "\n",
        "network = models.Sequential()\n",
        "network.add(layers.Dense(512, activation='relu', input_shape=(28*28, )))\n",
        "network.add(layers.Dense(10, activation=\"softmax\"))\n",
        "network.compile(optimizer=optimizers.RMSprop(lr=0.001),\n",
        "        loss=losses.categorical_crossentropy,\n",
        "        metrics=metrics.categorical_accuracy)\n",
        "network.summary()"
      ],
      "execution_count": 3,
      "outputs": [
        {
          "output_type": "stream",
          "text": [
            "Model: \"sequential\"\n",
            "_________________________________________________________________\n",
            "Layer (type)                 Output Shape              Param #   \n",
            "=================================================================\n",
            "dense (Dense)                (None, 512)               401920    \n",
            "_________________________________________________________________\n",
            "dense_1 (Dense)              (None, 10)                5130      \n",
            "=================================================================\n",
            "Total params: 407,050\n",
            "Trainable params: 407,050\n",
            "Non-trainable params: 0\n",
            "_________________________________________________________________\n"
          ],
          "name": "stdout"
        }
      ]
    },
    {
      "cell_type": "markdown",
      "metadata": {
        "id": "wjZ1_Hj-H1wl"
      },
      "source": [
        "## 2.2 训练"
      ]
    },
    {
      "cell_type": "code",
      "metadata": {
        "colab": {
          "base_uri": "https://localhost:8080/"
        },
        "id": "0RfFdr9zUat8",
        "outputId": "2c5ccf39-0349-47e0-b6f8-00120ece1cf7"
      },
      "source": [
        "network.fit(train_images, train_labels, epochs=5, batch_size=128)\n"
      ],
      "execution_count": 4,
      "outputs": [
        {
          "output_type": "stream",
          "text": [
            "Epoch 1/5\n",
            "469/469 [==============================] - 5s 10ms/step - loss: 0.4324 - categorical_accuracy: 0.8710\n",
            "Epoch 2/5\n",
            "469/469 [==============================] - 5s 10ms/step - loss: 0.1136 - categorical_accuracy: 0.9672\n",
            "Epoch 3/5\n",
            "469/469 [==============================] - 5s 10ms/step - loss: 0.0684 - categorical_accuracy: 0.9800\n",
            "Epoch 4/5\n",
            "469/469 [==============================] - 5s 10ms/step - loss: 0.0492 - categorical_accuracy: 0.9851\n",
            "Epoch 5/5\n",
            "469/469 [==============================] - 4s 10ms/step - loss: 0.0339 - categorical_accuracy: 0.9900\n"
          ],
          "name": "stdout"
        },
        {
          "output_type": "execute_result",
          "data": {
            "text/plain": [
              "<tensorflow.python.keras.callbacks.History at 0x7fc767847d50>"
            ]
          },
          "metadata": {
            "tags": []
          },
          "execution_count": 4
        }
      ]
    },
    {
      "cell_type": "markdown",
      "metadata": {
        "id": "LeSWDidHrsDy"
      },
      "source": [
        "# 3 model 数据存储"
      ]
    },
    {
      "cell_type": "markdown",
      "metadata": {
        "id": "UGGk0PRIrsDy"
      },
      "source": [
        "## 3.1 history"
      ]
    },
    {
      "cell_type": "code",
      "metadata": {
        "id": "O8Cvi1T1PwD9"
      },
      "source": [
        "import pickle\n",
        "import os\n",
        "\n",
        "save_path = './history/mnist_base.pickle'\n",
        "save_dir = os.path.dirname(save_path)\n",
        "\n",
        "if not os.path.isdir(save_dir):\n",
        "  os.mkdir(save_dir)\n",
        "\n",
        "fp = open(save_path, 'wb')\n",
        "pickle.dump(network.history.history, fp)\n",
        "fp.close()"
      ],
      "execution_count": 23,
      "outputs": []
    },
    {
      "cell_type": "markdown",
      "metadata": {
        "id": "CGYsbHNBrsDz"
      },
      "source": [
        "## 3.2 model"
      ]
    },
    {
      "cell_type": "code",
      "metadata": {
        "colab": {
          "base_uri": "https://localhost:8080/"
        },
        "id": "xs73-LBzrsDz",
        "outputId": "f3648681-b096-4c31-a762-56fab272a80a"
      },
      "source": [
        "save_path = './model/mnist_base'\n",
        "save_dir = os.path.dirname(save_path)\n",
        "\n",
        "if not os.path.isdir(save_dir):\n",
        "  os.mkdir(save_dir)\n",
        "network.save(save_path)"
      ],
      "execution_count": 20,
      "outputs": [
        {
          "output_type": "stream",
          "text": [
            "INFO:tensorflow:Assets written to: ./model/mnist_base/assets\n"
          ],
          "name": "stdout"
        }
      ]
    },
    {
      "cell_type": "markdown",
      "metadata": {
        "id": "5oSCdtvXr3Qq"
      },
      "source": [
        "# 4. model 数据恢复"
      ]
    },
    {
      "cell_type": "markdown",
      "metadata": {
        "id": "3TRE8olqsSrX"
      },
      "source": [
        "# 4.1 history"
      ]
    },
    {
      "cell_type": "code",
      "metadata": {
        "id": "ooBYRNVDsX_K"
      },
      "source": [
        "import pickle\n",
        "\n",
        "history_path = './history/mnist_base.pickle'\n",
        "fp = open(history_path, 'rb')\n",
        "\n",
        "history = pickle.load(fp)\n",
        "fp.close()"
      ],
      "execution_count": 24,
      "outputs": []
    },
    {
      "cell_type": "markdown",
      "metadata": {
        "id": "Tub3CYNexa07"
      },
      "source": [
        "## 4.2 model"
      ]
    },
    {
      "cell_type": "code",
      "metadata": {
        "id": "w1Cot3QxxLuC"
      },
      "source": [
        "model_path = './model/mnist_base'\n",
        "network = models.load_model(model_path)"
      ],
      "execution_count": 25,
      "outputs": []
    },
    {
      "cell_type": "markdown",
      "metadata": {
        "id": "celPRAmTrsDz"
      },
      "source": [
        "# 5. 数据分析"
      ]
    },
    {
      "cell_type": "code",
      "metadata": {
        "id": "6wIMvRLBrsDz"
      },
      "source": [
        "loss = history['loss']\n",
        "accuracy = history['categorical_accuracy']\n"
      ],
      "execution_count": null,
      "outputs": []
    },
    {
      "cell_type": "markdown",
      "metadata": {
        "id": "lswE5lrnH5Oi"
      },
      "source": [
        "## 5.1 测试集验证"
      ]
    },
    {
      "cell_type": "code",
      "metadata": {
        "colab": {
          "base_uri": "https://localhost:8080/"
        },
        "id": "z_74DNDDHD4v",
        "outputId": "a2f49b9c-c5ef-4a9a-e57c-2a67f354a3a8"
      },
      "source": [
        "test_loss, test_acc = network.evaluate(test_images, test_labels)\n",
        "print(test_acc)"
      ],
      "execution_count": 26,
      "outputs": [
        {
          "output_type": "stream",
          "text": [
            "313/313 [==============================] - 1s 2ms/step - loss: 0.0652 - categorical_accuracy: 0.9808\n",
            "0.9807999730110168\n"
          ],
          "name": "stdout"
        }
      ]
    },
    {
      "cell_type": "markdown",
      "metadata": {
        "id": "IRa-83j_IBEj"
      },
      "source": [
        "## 其他"
      ]
    },
    {
      "cell_type": "code",
      "metadata": {
        "id": "H281-oE3IDIg"
      },
      "source": [
        "import matplotlib.pyplot as plt\n",
        "digit = train_images[4].reshape(28,28)\n",
        "print(digit.shape)\n",
        "plt.imshow(digit, cmap=plt.cm.binary)\n",
        "plt.show()\n",
        "\n"
      ],
      "execution_count": null,
      "outputs": []
    },
    {
      "cell_type": "code",
      "metadata": {
        "id": "kF_b80N5G__i"
      },
      "source": [
        "for j in range(0, 6, 2):\n",
        "  print(j)"
      ],
      "execution_count": null,
      "outputs": []
    },
    {
      "cell_type": "code",
      "metadata": {
        "id": "xLICmwcWHCf-"
      },
      "source": [
        ""
      ],
      "execution_count": null,
      "outputs": []
    }
  ]
}