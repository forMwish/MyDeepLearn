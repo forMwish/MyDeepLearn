{
 "cells": [
  {
   "cell_type": "markdown",
   "metadata": {
    "id": "cQQl-06bNHyn"
   },
   "source": [
    "# 1. 准备"
   ]
  },
  {
   "cell_type": "markdown",
   "metadata": {
    "id": "nGA_OO0wPDBc"
   },
   "source": [
    "## 1.1 挂载 google drive\n"
   ]
  },
  {
   "cell_type": "code",
   "execution_count": null,
   "metadata": {
    "colab": {
     "base_uri": "https://localhost:8080/"
    },
    "id": "WRPImfTbMcii",
    "outputId": "5ee04304-16de-4277-86f0-c5a0cc70773c"
   },
   "outputs": [],
   "source": [
    "from google.colab import drive\n",
    "drive.mount('/gdrive')\n",
    "%cd /gdrive"
   ]
  },
  {
   "cell_type": "markdown",
   "metadata": {
    "id": "9HPY9f0kHpV2"
   },
   "source": [
    "## 1.2 数据集处理"
   ]
  },
  {
   "cell_type": "code",
   "execution_count": null,
   "metadata": {
    "colab": {
     "base_uri": "https://localhost:8080/"
    },
    "id": "zKB2VyTjEIlt",
    "outputId": "599c589c-bb53-41ae-96b0-b4172aa48cab"
   },
   "outputs": [],
   "source": [
    "from keras.datasets import mnist\n",
    "import numpy as np\n",
    "\n",
    "#pdb.set_trace() #需要在函数中使用，否则异常\n",
    "(train_images, train_labels), (test_images, test_labels) = mnist.load_data()\n",
    "\n",
    "train_images = train_images.reshape(60000, -1).astype(np.float32) / 255\n",
    "test_images = test_images.reshape(10000, -1).astype(np.float32) / 255\n",
    "\n",
    "from keras.utils import to_categorical\n",
    "train_labels = to_categorical(train_labels)\n",
    "test_labels = to_categorical(test_labels)"
   ]
  },
  {
   "cell_type": "markdown",
   "metadata": {
    "id": "uMwzXDaqHxeW"
   },
   "source": [
    "# 2. 模型"
   ]
  },
  {
   "cell_type": "markdown",
   "metadata": {},
   "source": [
    "## 2.1 构建"
   ]
  },
  {
   "cell_type": "code",
   "execution_count": null,
   "metadata": {
    "colab": {
     "base_uri": "https://localhost:8080/"
    },
    "id": "lD3ShFylFPUt",
    "outputId": "db423f5b-9f64-4a15-cff7-7c37fa76469f"
   },
   "outputs": [],
   "source": [
    "from keras import models\n",
    "from keras import layers\n",
    "\n",
    "from keras import optimizers\n",
    "from keras import losses\n",
    "from keras import metrics\n",
    "\n",
    "\n",
    "network = models.Sequential()\n",
    "network.add(layers.Dense(512, activation='relu', input_shape=(28*28, )))\n",
    "network.add(layers.Dense(10, activation=\"softmax\"))\n",
    "network.compile(optimizer=optimizers.RMSprop(lr=0.001),\n",
    "        loss=losses.categorical_crossentropy,\n",
    "        metrics=metrics.categorical_accuracy)\n",
    "network.summary()"
   ]
  },
  {
   "cell_type": "markdown",
   "metadata": {
    "id": "wjZ1_Hj-H1wl"
   },
   "source": [
    "## 2.2 训练"
   ]
  },
  {
   "cell_type": "code",
   "execution_count": null,
   "metadata": {
    "colab": {
     "base_uri": "https://localhost:8080/"
    },
    "id": "0RfFdr9zUat8",
    "outputId": "d3658646-e025-4037-e143-acc6f735558e"
   },
   "outputs": [],
   "source": [
    "network.fit(train_images, train_labels, epochs=5, batch_size=128)\n"
   ]
  },
  {
   "cell_type": "markdown",
   "metadata": {},
   "source": [
    "# 3 存储"
   ]
  },
  {
   "cell_type": "markdown",
   "metadata": {},
   "source": [
    "## 3.1 history"
   ]
  },
  {
   "cell_type": "code",
   "execution_count": null,
   "metadata": {
    "colab": {
     "base_uri": "https://localhost:8080/"
    },
    "id": "O8Cvi1T1PwD9",
    "outputId": "a2ff8766-92fa-4535-956f-7487cf42b4c3"
   },
   "outputs": [],
   "source": [
    "import pickle\n",
    "\n",
    "history_path = './history/mnist_base.pickle'\n",
    "fp = open(save_path, 'wb')\n",
    "\n",
    "pickle.dump(network.history.history, fp)\n",
    "fp.close()"
   ]
  },
  {
   "cell_type": "markdown",
   "metadata": {},
   "source": [
    "## 3.2 model"
   ]
  },
  {
   "cell_type": "code",
   "execution_count": null,
   "metadata": {},
   "outputs": [],
   "source": [
    "model_path = './model/mnist_base'\n",
    "network.save(model_path)"
   ]
  },
  {
   "cell_type": "markdown",
   "metadata": {},
   "source": [
    "# 4. 数据分析"
   ]
  },
  {
   "cell_type": "code",
   "execution_count": null,
   "metadata": {},
   "outputs": [],
   "source": [
    "network = models.load_model(model_path)\n",
    "print(network.summary())"
   ]
  },
  {
   "cell_type": "code",
   "execution_count": null,
   "metadata": {},
   "outputs": [],
   "source": [
    "fp = open(save_path, 'rb')\n",
    "history = pickle.load(fp)\n",
    "\n",
    "loss = history['loss']\n",
    "accuracy = history['categorical_accuracy']\n"
   ]
  },
  {
   "cell_type": "markdown",
   "metadata": {
    "id": "lswE5lrnH5Oi"
   },
   "source": [
    "## 测试集验证"
   ]
  },
  {
   "cell_type": "code",
   "execution_count": null,
   "metadata": {
    "colab": {
     "base_uri": "https://localhost:8080/"
    },
    "id": "z_74DNDDHD4v",
    "outputId": "3bfd69cd-0565-4494-9b4f-17d38b1873b4"
   },
   "outputs": [],
   "source": [
    "test_loss, test_acc = network.evaluate(test_images, test_labels)\n",
    "print(test_acc)"
   ]
  },
  {
   "cell_type": "markdown",
   "metadata": {
    "id": "IRa-83j_IBEj"
   },
   "source": [
    "## 其他"
   ]
  },
  {
   "cell_type": "code",
   "execution_count": null,
   "metadata": {
    "colab": {
     "base_uri": "https://localhost:8080/",
     "height": 283
    },
    "id": "H281-oE3IDIg",
    "outputId": "eaf706ff-deb8-435b-97a2-c3d0a870ef4f"
   },
   "outputs": [],
   "source": [
    "import matplotlib.pyplot as plt\n",
    "digit = train_images[4].reshape(28,28)\n",
    "print(digit.shape)\n",
    "plt.imshow(digit, cmap=plt.cm.binary)\n",
    "plt.show()\n",
    "\n"
   ]
  },
  {
   "cell_type": "code",
   "execution_count": null,
   "metadata": {
    "colab": {
     "base_uri": "https://localhost:8080/"
    },
    "id": "kF_b80N5G__i",
    "outputId": "e7a75a74-b5d6-45f6-c3f0-cec556e8166f"
   },
   "outputs": [],
   "source": [
    "for j in range(0, 6, 2):\n",
    "  print(j)"
   ]
  },
  {
   "cell_type": "code",
   "execution_count": null,
   "metadata": {
    "id": "xLICmwcWHCf-"
   },
   "outputs": [],
   "source": []
  }
 ],
 "metadata": {
  "colab": {
   "collapsed_sections": [
    "nGA_OO0wPDBc"
   ],
   "name": "mnist.ipynb",
   "provenance": []
  },
  "kernelspec": {
   "display_name": "Python 3.8 (XPython)",
   "language": "python",
   "name": "xpython"
  },
  "language_info": {
   "file_extension": ".py",
   "mimetype": "text/x-python",
   "name": "python",
   "version": "3.8.8"
  }
 },
 "nbformat": 4,
 "nbformat_minor": 4
}