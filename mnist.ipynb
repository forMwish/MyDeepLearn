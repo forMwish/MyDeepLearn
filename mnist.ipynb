{
  "nbformat": 4,
  "nbformat_minor": 0,
  "metadata": {
    "colab": {
      "name": "mnist.ipynb",
      "provenance": [],
      "collapsed_sections": [
        "nGA_OO0wPDBc"
      ],
      "toc_visible": true,
      "include_colab_link": true
    },
    "kernelspec": {
      "display_name": "Python 3.8 (XPython)",
      "language": "python",
      "name": "xpython"
    },
    "language_info": {
      "file_extension": ".py",
      "mimetype": "text/x-python",
      "name": "python",
      "version": "3.8.8"
    }
  },
  "cells": [
    {
      "cell_type": "markdown",
      "metadata": {
        "id": "view-in-github",
        "colab_type": "text"
      },
      "source": [
        "<a href=\"https://colab.research.google.com/github/forMwish/MyDeepLearn/blob/master/mnist.ipynb\" target=\"_parent\"><img src=\"https://colab.research.google.com/assets/colab-badge.svg\" alt=\"Open In Colab\"/></a>"
      ]
    },
    {
      "cell_type": "markdown",
      "metadata": {
        "id": "cQQl-06bNHyn"
      },
      "source": [
        "# 1. 准备"
      ]
    },
    {
      "cell_type": "markdown",
      "metadata": {
        "id": "nGA_OO0wPDBc"
      },
      "source": [
        "## 1.1 挂载 google drive\n"
      ]
    },
    {
      "cell_type": "code",
      "metadata": {
        "id": "WRPImfTbMcii",
        "outputId": "0f27c7af-7364-4375-e43e-b4abf61b6d4a",
        "colab": {
          "base_uri": "https://localhost:8080/"
        }
      },
      "source": [
        "from google.colab import drive\n",
        "import os\n",
        "\n",
        "gdrive_path = '/gdrive'\n",
        "drive.mount(gdrive_path, force_remount=True)\n",
        "\n",
        "os.chdir(\"%s/MyDrive\"%gdrive_path)\n",
        "os.listdir(\"%s/MyDrive\"%gdrive_path)"
      ],
      "execution_count": 38,
      "outputs": [
        {
          "output_type": "stream",
          "text": [
            "Mounted at /gdrive\n"
          ],
          "name": "stdout"
        },
        {
          "output_type": "execute_result",
          "data": {
            "text/plain": [
              "['openmp-4.5.pdf',\n",
              " 'openmp-4.5.gdoc',\n",
              " 'ARM Architecture Reference Manual ARMv8, f - ARM Limited.pdf',\n",
              " 'Colab Notebooks',\n",
              " 'history_imdb.npy',\n",
              " 'train_data',\n",
              " 'train_history',\n",
              " 'history',\n",
              " 'model']"
            ]
          },
          "metadata": {
            "tags": []
          },
          "execution_count": 38
        }
      ]
    },
    {
      "cell_type": "markdown",
      "metadata": {
        "id": "9HPY9f0kHpV2"
      },
      "source": [
        "## 1.2 数据集处理"
      ]
    },
    {
      "cell_type": "code",
      "metadata": {
        "id": "zKB2VyTjEIlt"
      },
      "source": [
        "from keras.datasets import mnist\n",
        "import numpy as np\n",
        "from keras.utils import to_categorical\n",
        "\n",
        "\n",
        "(train_images, train_labels), (test_images, test_labels) = mnist.load_data()\n",
        "\n",
        "train_images = train_images.reshape(60000, -1).astype(np.float32) / 255\n",
        "test_images = test_images.reshape(10000, -1).astype(np.float32) / 255\n",
        "\n",
        "train_labels = to_categorical(train_labels)\n",
        "test_labels = to_categorical(test_labels)\n",
        "\n",
        "validation_image = train_images[:10000]\n",
        "validation_labels = train_labels[:10000]\n",
        "partial_train_images = train_images[10000:]\n",
        "partial_train_labels = train_labels[10000:]"
      ],
      "execution_count": 40,
      "outputs": []
    },
    {
      "cell_type": "markdown",
      "metadata": {
        "id": "uMwzXDaqHxeW"
      },
      "source": [
        "# 2. 模型"
      ]
    },
    {
      "cell_type": "markdown",
      "metadata": {
        "id": "VTfes05BrsDx"
      },
      "source": [
        "## 2.1 构建"
      ]
    },
    {
      "cell_type": "code",
      "metadata": {
        "id": "lD3ShFylFPUt",
        "outputId": "f6354093-9155-43d0-cd05-8ba003c83fa5",
        "colab": {
          "base_uri": "https://localhost:8080/"
        }
      },
      "source": [
        "from keras import models\n",
        "from keras import layers\n",
        "\n",
        "from keras import optimizers\n",
        "from keras import losses\n",
        "from keras import metrics\n",
        "\n",
        "\n",
        "network = models.Sequential()\n",
        "network.add(layers.Dense(512, activation='relu', input_shape=(28*28, )))\n",
        "network.add(layers.Dense(10, activation=\"softmax\"))\n",
        "network.compile(optimizer=optimizers.RMSprop(lr=0.001),\n",
        "        loss=losses.categorical_crossentropy,\n",
        "        metrics=metrics.categorical_accuracy)\n",
        "network.summary()"
      ],
      "execution_count": 41,
      "outputs": [
        {
          "output_type": "stream",
          "text": [
            "Model: \"sequential_4\"\n",
            "_________________________________________________________________\n",
            "Layer (type)                 Output Shape              Param #   \n",
            "=================================================================\n",
            "dense_8 (Dense)              (None, 512)               401920    \n",
            "_________________________________________________________________\n",
            "dense_9 (Dense)              (None, 10)                5130      \n",
            "=================================================================\n",
            "Total params: 407,050\n",
            "Trainable params: 407,050\n",
            "Non-trainable params: 0\n",
            "_________________________________________________________________\n"
          ],
          "name": "stdout"
        }
      ]
    },
    {
      "cell_type": "markdown",
      "metadata": {
        "id": "wjZ1_Hj-H1wl"
      },
      "source": [
        "## 2.2 训练"
      ]
    },
    {
      "cell_type": "code",
      "metadata": {
        "id": "0RfFdr9zUat8",
        "outputId": "47ab4307-59a3-42e1-e4a0-6165929bacf1",
        "colab": {
          "base_uri": "https://localhost:8080/"
        }
      },
      "source": [
        "network.fit(partial_train_images, \n",
        "      partial_train_labels, \n",
        "      epochs=5, \n",
        "      batch_size=128, \n",
        "      validation_data=(validation_image, validation_labels))\n"
      ],
      "execution_count": 42,
      "outputs": [
        {
          "output_type": "stream",
          "text": [
            "Epoch 1/5\n",
            "391/391 [==============================] - 4s 8ms/step - loss: 0.4580 - categorical_accuracy: 0.8664 - val_loss: 0.1479 - val_categorical_accuracy: 0.9565\n",
            "Epoch 2/5\n",
            "391/391 [==============================] - 3s 8ms/step - loss: 0.1285 - categorical_accuracy: 0.9610 - val_loss: 0.1182 - val_categorical_accuracy: 0.9647\n",
            "Epoch 3/5\n",
            "391/391 [==============================] - 3s 8ms/step - loss: 0.0786 - categorical_accuracy: 0.9763 - val_loss: 0.1000 - val_categorical_accuracy: 0.9697\n",
            "Epoch 4/5\n",
            "391/391 [==============================] - 3s 8ms/step - loss: 0.0528 - categorical_accuracy: 0.9849 - val_loss: 0.0902 - val_categorical_accuracy: 0.9740\n",
            "Epoch 5/5\n",
            "391/391 [==============================] - 3s 8ms/step - loss: 0.0401 - categorical_accuracy: 0.9880 - val_loss: 0.0794 - val_categorical_accuracy: 0.9777\n"
          ],
          "name": "stdout"
        },
        {
          "output_type": "execute_result",
          "data": {
            "text/plain": [
              "<tensorflow.python.keras.callbacks.History at 0x7fb961a69c90>"
            ]
          },
          "metadata": {
            "tags": []
          },
          "execution_count": 42
        }
      ]
    },
    {
      "cell_type": "markdown",
      "metadata": {
        "id": "LeSWDidHrsDy"
      },
      "source": [
        "# 3 model 数据存储"
      ]
    },
    {
      "cell_type": "code",
      "metadata": {
        "id": "O8Cvi1T1PwD9",
        "outputId": "95af745a-4a7f-413d-c340-57f30c854d7f",
        "colab": {
          "base_uri": "https://localhost:8080/"
        }
      },
      "source": [
        "import pickle\n",
        "import os\n",
        "\n",
        "\n",
        "history_path = './history/mnist_base.pickle'\n",
        "model_path = './model/mnist_base'\n",
        "\n",
        "history_dir = os.path.dirname(history_path)\n",
        "model_dir = os.path.dirname(model_path)\n",
        "\n",
        "if not os.path.isdir(history_dir):\n",
        "  os.mkdir(history_dir)\n",
        "if not os.path.isdir(model_dir):\n",
        "  os.mkdir(model_dir)\n",
        "\n",
        "fp = open(history_path, 'wb')\n",
        "pickle.dump(network.history.history, fp)\n",
        "fp.close()\n",
        "\n",
        "network.save(model_path)"
      ],
      "execution_count": 43,
      "outputs": [
        {
          "output_type": "stream",
          "text": [
            "INFO:tensorflow:Assets written to: ./model/mnist_base/assets\n"
          ],
          "name": "stdout"
        }
      ]
    },
    {
      "cell_type": "markdown",
      "metadata": {
        "id": "5oSCdtvXr3Qq"
      },
      "source": [
        "# 4. model 数据恢复"
      ]
    },
    {
      "cell_type": "code",
      "metadata": {
        "id": "ooBYRNVDsX_K"
      },
      "source": [
        "import pickle\n",
        "\n",
        "history_path = './history/mnist_base.pickle'\n",
        "fp = open(history_path, 'rb')\n",
        "\n",
        "history = pickle.load(fp)\n",
        "fp.close()\n",
        "model_path = './model/mnist_base'\n",
        "network = models.load_model(model_path)"
      ],
      "execution_count": 44,
      "outputs": []
    },
    {
      "cell_type": "markdown",
      "metadata": {
        "id": "celPRAmTrsDz"
      },
      "source": [
        "# 5. history 分析\n"
      ]
    },
    {
      "cell_type": "code",
      "metadata": {
        "id": "6wIMvRLBrsDz",
        "outputId": "6985ed6d-e1fd-4dad-e895-f2792ac0c965",
        "colab": {
          "base_uri": "https://localhost:8080/",
          "height": 607
        }
      },
      "source": [
        "import matplotlib.pyplot as plt\n",
        "\n",
        "loss = history['loss']\n",
        "accuracy = history['categorical_accuracy']\n",
        "val_loss = history['val_loss']\n",
        "val_accuracy = history['val_categorical_accuracy']\n",
        "\n",
        "epoch = range(1, len(loss)+1)\n",
        "\n",
        "plt.figure(figsize=(20,10))\n",
        "plt.subplot(1, 2, 1)\n",
        "plt.title('loss')\n",
        "plt.plot(epoch, loss, 'bo', label='loss')\n",
        "plt.plot(epoch, val_loss, 'r.', label='val_loss')\n",
        "plt.legend()\n",
        "\n",
        "plt.subplot(1, 2, 2)\n",
        "plt.title('accuracy')\n",
        "plt.plot(epoch, accuracy, 'bo', label='accuracy')\n",
        "plt.plot(epoch, val_accuracy, 'r.', label='val_accuracy')\n",
        "plt.show()"
      ],
      "execution_count": 45,
      "outputs": [
        {
          "output_type": "display_data",
          "data": {
            "image/png": "[encoded data removed]",
            "text/plain": [
              "<Figure size 1440x720 with 2 Axes>"
            ]
          },
          "metadata": {
            "tags": [],
            "needs_background": "light"
          }
        }
      ]
    },
    {
      "cell_type": "markdown",
      "metadata": {
        "id": "lswE5lrnH5Oi"
      },
      "source": [
        "## 5.1 测试集验证"
      ]
    },
    {
      "cell_type": "code",
      "metadata": {
        "id": "z_74DNDDHD4v",
        "outputId": "2712954c-ec00-4fbb-a445-1ab5620bda39",
        "colab": {
          "base_uri": "https://localhost:8080/"
        }
      },
      "source": [
        "test_loss, test_acc = network.evaluate(test_images, test_labels)\n",
        "print(test_acc)"
      ],
      "execution_count": 46,
      "outputs": [
        {
          "output_type": "stream",
          "text": [
            "313/313 [==============================] - 1s 2ms/step - loss: 0.0724 - categorical_accuracy: 0.9789\n",
            "0.9789000153541565\n"
          ],
          "name": "stdout"
        }
      ]
    },
    {
      "cell_type": "markdown",
      "metadata": {
        "id": "IRa-83j_IBEj"
      },
      "source": [
        "## 其他"
      ]
    },
    {
      "cell_type": "code",
      "metadata": {
        "id": "H281-oE3IDIg"
      },
      "source": [
        "import matplotlib.pyplot as plt\n",
        "digit = train_images[4].reshape(28,28)\n",
        "print(digit.shape)\n",
        "plt.imshow(digit, cmap=plt.cm.binary)\n",
        "plt.show()\n",
        "\n"
      ],
      "execution_count": null,
      "outputs": []
    },
    {
      "cell_type": "code",
      "metadata": {
        "id": "kF_b80N5G__i"
      },
      "source": [
        "for j in range(0, 6, 2):\n",
        "  print(j)"
      ],
      "execution_count": null,
      "outputs": []
    },
    {
      "cell_type": "code",
      "metadata": {
        "id": "xLICmwcWHCf-"
      },
      "source": [
        ""
      ],
      "execution_count": null,
      "outputs": []
    }
  ]
}